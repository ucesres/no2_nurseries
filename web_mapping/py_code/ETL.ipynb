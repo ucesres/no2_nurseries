{
 "cells": [
  {
   "cell_type": "code",
   "execution_count": 1,
   "metadata": {
    "collapsed": true
   },
   "outputs": [],
   "source": [
    "import pandas, json\n"
   ]
  },
  {
   "cell_type": "code",
   "execution_count": 2,
   "metadata": {
    "collapsed": false
   },
   "outputs": [
    {
     "name": "stdout",
     "output_type": "stream",
     "text": [
      "C:\\Users\\Ed Sharp\\Dropbox\\Schools\\web_mapping\\data\n"
     ]
    }
   ],
   "source": [
    "cd ../data/"
   ]
  },
  {
   "cell_type": "code",
   "execution_count": null,
   "metadata": {
    "collapsed": true
   },
   "outputs": [],
   "source": []
  },
  {
   "cell_type": "code",
   "execution_count": null,
   "metadata": {
    "collapsed": true
   },
   "outputs": [],
   "source": []
  },
  {
   "cell_type": "code",
   "execution_count": null,
   "metadata": {
    "collapsed": true
   },
   "outputs": [],
   "source": []
  },
  {
   "cell_type": "code",
   "execution_count": 28,
   "metadata": {
    "collapsed": false
   },
   "outputs": [],
   "source": [
    "filename = 'all_150.json'\n",
    "with open(filename, 'r') as f:\n",
    "    data = json.load(f)\n",
    "    for feature in data['features'][0:]:\n",
    "        feature['properties']['rno2_float'] = float(feature['properties']['rno2_excee'])\n",
    "    with open('all_150_rev.json', 'w') as f:\n",
    "         json.dump(data, f)\n",
    "    #json.dump('all_150_rev.json', data)\n",
    "\n"
   ]
  },
  {
   "cell_type": "code",
   "execution_count": 31,
   "metadata": {
    "collapsed": true
   },
   "outputs": [],
   "source": [
    "filename = 'no_grid.json'\n",
    "with open(filename, 'r') as f:\n",
    "    data = json.load(f)\n",
    "    \n"
   ]
  },
  {
   "cell_type": "code",
   "execution_count": 40,
   "metadata": {
    "collapsed": false
   },
   "outputs": [
    {
     "data": {
      "text/plain": [
       "{u'geometry': {u'coordinates': [[[-2.768705128247659, 49.996620420459976],\n",
       "    [-2.76884859444742, 50.00561339972066],\n",
       "    [-2.754895188860407, 50.005705048438315],\n",
       "    [-2.754754324837383, 49.99671204015867],\n",
       "    [-2.768705128247659, 49.996620420459976]]],\n",
       "  u'type': u'Polygon'},\n",
       " u'properties': {u'Join_Count': 0,\n",
       "  u'OID_1': 1002,\n",
       "  u'TARGET_FID': 1001,\n",
       "  u'Total_NO2_': 0.0},\n",
       " u'type': u'Feature'}"
      ]
     },
     "execution_count": 40,
     "metadata": {},
     "output_type": "execute_result"
    }
   ],
   "source": [
    "data['features'][1001]"
   ]
  },
  {
   "cell_type": "code",
   "execution_count": null,
   "metadata": {
    "collapsed": true
   },
   "outputs": [],
   "source": [
    "{\n",
    "                'type': 'Feature',\n",
    "                'geometry': {\n",
    "                    'type': 'Polygon',\n",
    "                    'coordinates': [[[-67.13734351262877, 45.137451890638886],\n",
    "                        [-66.96466, 44.8097],\n",
    "                        [-68.03252, 44.3252],\n",
    "                        [-69.06, 43.98],\n",
    "                        [-70.11617, 43.68405],\n",
    "                        [-70.64573401557249, 43.090083319667144],\n",
    "                        [-70.75102474636725, 43.08003225358635],\n",
    "                        [-70.79761105007827, 43.21973948828747],\n",
    "                        [-70.98176001655037, 43.36789581966826],\n",
    "                        [-70.94416541205806, 43.46633942318431],\n",
    "                        [-71.08482, 45.3052400000002],\n",
    "                        [-70.6600225491012, 45.46022288673396],\n",
    "                        [-70.30495378282376, 45.914794623389355],\n",
    "                        [-70.00014034695016, 46.69317088478567],\n",
    "                        [-69.23708614772835, 47.44777598732787],\n",
    "                        [-68.90478084987546, 47.184794623394396],\n",
    "                        [-68.23430497910454, 47.35462921812177],\n",
    "                        [-67.79035274928509, 47.066248887716995],\n",
    "                        [-67.79141211614706, 45.702585354182816],\n",
    "                        [-67.13734351262877, 45.137451890638886]]]\n",
    "                }\n",
    "            }"
   ]
  },
  {
   "cell_type": "code",
   "execution_count": 9,
   "metadata": {
    "collapsed": true
   },
   "outputs": [],
   "source": [
    "import csv\n",
    "# Read in raw data from csv\n",
    "rawData = csv.reader(open('GB_all_points.csv', 'rb'), dialect='excel')\n",
    "# the template. where data from the csv will be formatted to geojson\n",
    "template = \\\n",
    "    ''' \\\n",
    "    { \"type\" : \"Feature\",\n",
    "        \"geometry\" : {\n",
    "            \"type\" : \"Point\",\n",
    "            \"coordinates\" : [%s, %s]},\n",
    "        \"properties\" : { \"id\" : %s, \"unixTime\" : \"%s\", \"msgtext\" : \"%s\", \"userID\": \"%s\"}\n",
    "        },\n",
    "    '''\n",
    "# the head of the geojson file\n",
    "output = \\\n",
    "    ''' \\\n",
    "{ \"type\" : \"Feature Collection\",\n",
    "    \"features\" : [\n",
    "    '''\n",
    "# loop through the csv by row skipping the first\n",
    "iter = 0\n",
    "for row in rawData:\n",
    "    # iter += 1\n",
    "    # if iter >= 2:\n",
    "    id = row[2]\n",
    "    lat = row[5]\n",
    "    lon = row[6]\n",
    "    unixTime = row[1]\n",
    "    msgtext = row[3]\n",
    "    userID = row[4]\n",
    "    # output += template % (row[0], row[2], row[1], row[3], row[4])\n",
    "    output += template % (lon, lat,  id,  unixTime, msgtext, userID)\n",
    "    \n",
    "# the tail of the geojson file\n",
    "output += \\\n",
    "    ''' \\\n",
    "    ]\n",
    "}\n",
    "    '''\n",
    "    \n",
    "# opens an geoJSON file to write the output to\n",
    "outFileHandle = open(\"GB.geojson\", \"w\")\n",
    "outFileHandle.write(output)\n",
    "outFileHandle.close()"
   ]
  },
  {
   "cell_type": "code",
   "execution_count": 20,
   "metadata": {
    "collapsed": false
   },
   "outputs": [],
   "source": [
    "N_ =pandas.read_csv('N_150.csv')\n",
    "E_=pandas.read_csv('E_150a.csv')\n",
    "S_=pandas.read_csv('S_150.csv')\n",
    "W_=pandas.read_csv('W_150.csv')"
   ]
  },
  {
   "cell_type": "code",
   "execution_count": 21,
   "metadata": {
    "collapsed": false
   },
   "outputs": [],
   "source": [
    "aall=pandas.concat([N_,E_,S_,W_], ignore_index=True)"
   ]
  },
  {
   "cell_type": "code",
   "execution_count": 22,
   "metadata": {
    "collapsed": false
   },
   "outputs": [],
   "source": [
    "aall.to_csv('All_150_1.csv')"
   ]
  },
  {
   "cell_type": "code",
   "execution_count": 17,
   "metadata": {
    "collapsed": false
   },
   "outputs": [
    {
     "data": {
      "text/plain": [
       "0       54.590500\n",
       "1       54.605499\n",
       "2       54.612099\n",
       "3       54.599499\n",
       "4       54.591499\n",
       "5       54.605701\n",
       "6       54.560001\n",
       "7       54.641102\n",
       "8       54.567699\n",
       "9       54.599499\n",
       "10      54.565800\n",
       "11      54.599800\n",
       "12      54.597698\n",
       "13      54.573502\n",
       "14      54.567699\n",
       "15      54.575802\n",
       "16      54.615299\n",
       "17      54.609501\n",
       "18      51.510201\n",
       "19      51.513100\n",
       "20      51.514401\n",
       "21      51.520401\n",
       "22      51.517300\n",
       "23      51.513500\n",
       "24      51.517601\n",
       "25      51.515701\n",
       "26      51.519699\n",
       "27      51.519901\n",
       "28      51.511200\n",
       "29      51.520401\n",
       "          ...    \n",
       "1303    57.149799\n",
       "1304    55.776798\n",
       "1305    55.780998\n",
       "1306    55.807800\n",
       "1307    55.863602\n",
       "1308    55.839802\n",
       "1309    55.846500\n",
       "1310    55.848202\n",
       "1311    55.852902\n",
       "1312    55.861500\n",
       "1313    55.861599\n",
       "1314    55.871300\n",
       "1315    55.871300\n",
       "1316    55.873600\n",
       "1317    51.602200\n",
       "1318    51.579800\n",
       "1319    51.579800\n",
       "1320    51.616501\n",
       "1321    51.490002\n",
       "1322    51.463200\n",
       "1323    51.498199\n",
       "1324    51.501400\n",
       "1325    51.486698\n",
       "1326    51.483898\n",
       "1327    51.599400\n",
       "1328    51.600601\n",
       "1329    51.498199\n",
       "1330    51.512100\n",
       "1331    51.621101\n",
       "1332    51.484901\n",
       "Name: latitude, dtype: float64"
      ]
     },
     "execution_count": 17,
     "metadata": {},
     "output_type": "execute_result"
    }
   ],
   "source": [
    "aall[u'latitude']"
   ]
  },
  {
   "cell_type": "code",
   "execution_count": null,
   "metadata": {
    "collapsed": true
   },
   "outputs": [],
   "source": []
  }
 ],
 "metadata": {
  "kernelspec": {
   "display_name": "Python 2",
   "language": "python",
   "name": "python2"
  },
  "language_info": {
   "codemirror_mode": {
    "name": "ipython",
    "version": 2
   },
   "file_extension": ".py",
   "mimetype": "text/x-python",
   "name": "python",
   "nbconvert_exporter": "python",
   "pygments_lexer": "ipython2",
   "version": "2.7.9"
  }
 },
 "nbformat": 4,
 "nbformat_minor": 2
}
